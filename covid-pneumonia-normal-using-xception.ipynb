{
 "cells": [
  {
   "cell_type": "markdown",
   "id": "7d9dd310",
   "metadata": {
    "papermill": {
     "duration": 0.023052,
     "end_time": "2022-09-10T10:46:03.877208",
     "exception": false,
     "start_time": "2022-09-10T10:46:03.854156",
     "status": "completed"
    },
    "tags": []
   },
   "source": [
    "## Importing Required Libraries"
   ]
  },
  {
   "cell_type": "code",
   "execution_count": 1,
   "id": "b34eb152",
   "metadata": {
    "execution": {
     "iopub.execute_input": "2022-09-10T10:46:03.933769Z",
     "iopub.status.busy": "2022-09-10T10:46:03.933235Z",
     "iopub.status.idle": "2022-09-10T10:46:09.464197Z",
     "shell.execute_reply": "2022-09-10T10:46:09.463572Z",
     "shell.execute_reply.started": "2022-09-10T09:42:57.135402Z"
    },
    "papermill": {
     "duration": 5.563965,
     "end_time": "2022-09-10T10:46:09.464361",
     "exception": false,
     "start_time": "2022-09-10T10:46:03.900396",
     "status": "completed"
    },
    "tags": []
   },
   "outputs": [],
   "source": [
    "import numpy as np\n",
    "import pandas as pd\n",
    "\n",
    "import matplotlib.pyplot as plt\n",
    "import seaborn as sns\n",
    "sns.set_style('darkgrid')\n",
    "\n",
    "import os\n",
    "import random\n",
    "import keras\n",
    "\n",
    "import warnings\n",
    "warnings.filterwarnings('ignore')\n",
    "\n",
    "from sklearn.model_selection import train_test_split\n",
    "\n",
    "from keras.preprocessing.image import load_img\n",
    "from keras.preprocessing.image import img_to_array\n",
    "from keras.preprocessing.image import ImageDataGenerator\n",
    "\n",
    "from sklearn.metrics import classification_report\n",
    "import tensorflow as tf"
   ]
  },
  {
   "cell_type": "markdown",
   "id": "fd45b029",
   "metadata": {
    "papermill": {
     "duration": 0.021633,
     "end_time": "2022-09-10T10:46:09.508350",
     "exception": false,
     "start_time": "2022-09-10T10:46:09.486717",
     "status": "completed"
    },
    "tags": []
   },
   "source": [
    "## Extracting Files"
   ]
  },
  {
   "cell_type": "code",
   "execution_count": 2,
   "id": "1bec260d",
   "metadata": {
    "execution": {
     "iopub.execute_input": "2022-09-10T10:46:09.556296Z",
     "iopub.status.busy": "2022-09-10T10:46:09.555480Z",
     "iopub.status.idle": "2022-09-10T10:46:09.557885Z",
     "shell.execute_reply": "2022-09-10T10:46:09.557456Z",
     "shell.execute_reply.started": "2022-09-10T09:43:08.396120Z"
    },
    "papermill": {
     "duration": 0.02798,
     "end_time": "2022-09-10T10:46:09.558001",
     "exception": false,
     "start_time": "2022-09-10T10:46:09.530021",
     "status": "completed"
    },
    "tags": []
   },
   "outputs": [],
   "source": [
    "c = 'E:\\\\VIT\\\\sem_4-2\\\\Health care\\\\project\\\\COVID-19_Radiography_Dataset\\\\COVID\\\\images'\n",
    "n = 'E:\\\\VIT\\\\sem_4-2\\\\Health care\\\\project\\\\COVID-19_Radiography_Dataset\\\\Normal\\\\images'\n",
    "p = 'E:\\\\VIT\\\\sem_4-2\\\\Health care\\\\project\\\\COVID-19_Radiography_Dataset\\\\Viral Pneumonia\\\\images'"
   ]
  },
  {
   "cell_type": "code",
   "execution_count": 3,
   "id": "ead73eb1",
   "metadata": {
    "execution": {
     "iopub.execute_input": "2022-09-10T10:46:09.604757Z",
     "iopub.status.busy": "2022-09-10T10:46:09.604017Z",
     "iopub.status.idle": "2022-09-10T10:46:10.086832Z",
     "shell.execute_reply": "2022-09-10T10:46:10.086345Z",
     "shell.execute_reply.started": "2022-09-10T09:43:09.141422Z"
    },
    "papermill": {
     "duration": 0.507506,
     "end_time": "2022-09-10T10:46:10.086974",
     "exception": false,
     "start_time": "2022-09-10T10:46:09.579468",
     "status": "completed"
    },
    "tags": []
   },
   "outputs": [],
   "source": [
    "random.seed(42)\n",
    "filenames = os.listdir(c) + random.sample(os.listdir(n), 2500) + os.listdir(p)"
   ]
  },
  {
   "cell_type": "markdown",
   "id": "5c84b0b5",
   "metadata": {
    "papermill": {
     "duration": 0.02289,
     "end_time": "2022-09-10T10:46:10.132418",
     "exception": false,
     "start_time": "2022-09-10T10:46:10.109528",
     "status": "completed"
    },
    "tags": []
   },
   "source": [
    "### Classes\n",
    "* 0 -> Normal\n",
    "* 1 -> Viral Pneumonia\n",
    "* 2 -> COVID"
   ]
  },
  {
   "cell_type": "code",
   "execution_count": 4,
   "id": "7d56574d",
   "metadata": {
    "execution": {
     "iopub.execute_input": "2022-09-10T10:46:10.185875Z",
     "iopub.status.busy": "2022-09-10T10:46:10.185039Z",
     "iopub.status.idle": "2022-09-10T10:46:10.186826Z",
     "shell.execute_reply": "2022-09-10T10:46:10.187349Z",
     "shell.execute_reply.started": "2022-09-10T09:43:10.729363Z"
    },
    "papermill": {
     "duration": 0.033633,
     "end_time": "2022-09-10T10:46:10.187492",
     "exception": false,
     "start_time": "2022-09-10T10:46:10.153859",
     "status": "completed"
    },
    "tags": []
   },
   "outputs": [],
   "source": [
    "categories = []\n",
    "for filename in filenames:\n",
    "    category = filename.split('-')[0]\n",
    "    if category == 'COVID':\n",
    "        categories.append(str(2))\n",
    "    elif category == 'Viral Pneumonia':\n",
    "        categories.append(str(1))\n",
    "    else:\n",
    "        categories.append(str(0))"
   ]
  },
  {
   "cell_type": "markdown",
   "id": "e5ebc655",
   "metadata": {
    "papermill": {
     "duration": 0.021808,
     "end_time": "2022-09-10T10:46:10.230602",
     "exception": false,
     "start_time": "2022-09-10T10:46:10.208794",
     "status": "completed"
    },
    "tags": []
   },
   "source": [
    "## Converting to Dataframe"
   ]
  },
  {
   "cell_type": "code",
   "execution_count": 5,
   "id": "0c2f679c",
   "metadata": {
    "execution": {
     "iopub.execute_input": "2022-09-10T10:46:10.295816Z",
     "iopub.status.busy": "2022-09-10T10:46:10.295179Z",
     "iopub.status.idle": "2022-09-10T10:46:10.298278Z",
     "shell.execute_reply": "2022-09-10T10:46:10.297642Z",
     "shell.execute_reply.started": "2022-09-10T09:43:11.309444Z"
    },
    "papermill": {
     "duration": 0.046295,
     "end_time": "2022-09-10T10:46:10.298396",
     "exception": false,
     "start_time": "2022-09-10T10:46:10.252101",
     "status": "completed"
    },
    "tags": []
   },
   "outputs": [],
   "source": [
    "for i in range(len(filenames)):\n",
    "    if 'COVID' in filenames[i]:\n",
    "        filenames[i] = os.path.join(c, filenames[i])\n",
    "    elif 'Viral Pneumonia' in filenames[i]:\n",
    "        filenames[i] = os.path.join(p, filenames[i])\n",
    "    else:\n",
    "        filenames[i] = os.path.join(n, filenames[i])\n",
    "    \n",
    "    \n",
    "df = pd.DataFrame({\n",
    "    'filename': filenames,\n",
    "    'category': categories\n",
    "})"
   ]
  },
  {
   "cell_type": "code",
   "execution_count": 6,
   "id": "3799c07c",
   "metadata": {
    "execution": {
     "iopub.execute_input": "2022-09-10T10:46:10.348790Z",
     "iopub.status.busy": "2022-09-10T10:46:10.348053Z",
     "iopub.status.idle": "2022-09-10T10:46:10.358717Z",
     "shell.execute_reply": "2022-09-10T10:46:10.359140Z",
     "shell.execute_reply.started": "2022-09-10T09:43:11.522686Z"
    },
    "papermill": {
     "duration": 0.039301,
     "end_time": "2022-09-10T10:46:10.359283",
     "exception": false,
     "start_time": "2022-09-10T10:46:10.319982",
     "status": "completed"
    },
    "tags": []
   },
   "outputs": [
    {
     "data": {
      "text/html": [
       "<div>\n",
       "<style scoped>\n",
       "    .dataframe tbody tr th:only-of-type {\n",
       "        vertical-align: middle;\n",
       "    }\n",
       "\n",
       "    .dataframe tbody tr th {\n",
       "        vertical-align: top;\n",
       "    }\n",
       "\n",
       "    .dataframe thead th {\n",
       "        text-align: right;\n",
       "    }\n",
       "</style>\n",
       "<table border=\"1\" class=\"dataframe\">\n",
       "  <thead>\n",
       "    <tr style=\"text-align: right;\">\n",
       "      <th></th>\n",
       "      <th>filename</th>\n",
       "      <th>category</th>\n",
       "    </tr>\n",
       "  </thead>\n",
       "  <tbody>\n",
       "    <tr>\n",
       "      <th>0</th>\n",
       "      <td>../input/covid19-radiography-database/COVID-19...</td>\n",
       "      <td>2</td>\n",
       "    </tr>\n",
       "    <tr>\n",
       "      <th>1</th>\n",
       "      <td>../input/covid19-radiography-database/COVID-19...</td>\n",
       "      <td>2</td>\n",
       "    </tr>\n",
       "    <tr>\n",
       "      <th>2</th>\n",
       "      <td>../input/covid19-radiography-database/COVID-19...</td>\n",
       "      <td>2</td>\n",
       "    </tr>\n",
       "    <tr>\n",
       "      <th>3</th>\n",
       "      <td>../input/covid19-radiography-database/COVID-19...</td>\n",
       "      <td>2</td>\n",
       "    </tr>\n",
       "    <tr>\n",
       "      <th>4</th>\n",
       "      <td>../input/covid19-radiography-database/COVID-19...</td>\n",
       "      <td>2</td>\n",
       "    </tr>\n",
       "  </tbody>\n",
       "</table>\n",
       "</div>"
      ],
      "text/plain": [
       "                                            filename category\n",
       "0  ../input/covid19-radiography-database/COVID-19...        2\n",
       "1  ../input/covid19-radiography-database/COVID-19...        2\n",
       "2  ../input/covid19-radiography-database/COVID-19...        2\n",
       "3  ../input/covid19-radiography-database/COVID-19...        2\n",
       "4  ../input/covid19-radiography-database/COVID-19...        2"
      ]
     },
     "execution_count": 6,
     "metadata": {},
     "output_type": "execute_result"
    }
   ],
   "source": [
    "df.head()"
   ]
  },
  {
   "cell_type": "code",
   "execution_count": 7,
   "id": "6c218b85",
   "metadata": {
    "execution": {
     "iopub.execute_input": "2022-09-10T10:46:10.408350Z",
     "iopub.status.busy": "2022-09-10T10:46:10.407684Z",
     "iopub.status.idle": "2022-09-10T10:46:10.410360Z",
     "shell.execute_reply": "2022-09-10T10:46:10.410791Z",
     "shell.execute_reply.started": "2022-09-10T09:43:11.753395Z"
    },
    "papermill": {
     "duration": 0.029527,
     "end_time": "2022-09-10T10:46:10.410926",
     "exception": false,
     "start_time": "2022-09-10T10:46:10.381399",
     "status": "completed"
    },
    "tags": []
   },
   "outputs": [
    {
     "data": {
      "text/plain": [
       "(7461, 2)"
      ]
     },
     "execution_count": 7,
     "metadata": {},
     "output_type": "execute_result"
    }
   ],
   "source": [
    "df.shape"
   ]
  },
  {
   "cell_type": "markdown",
   "id": "c20183d3",
   "metadata": {
    "papermill": {
     "duration": 0.022692,
     "end_time": "2022-09-10T10:46:10.455738",
     "exception": false,
     "start_time": "2022-09-10T10:46:10.433046",
     "status": "completed"
    },
    "tags": []
   },
   "source": [
    "## Exploratory Data Analysis"
   ]
  },
  {
   "cell_type": "code",
   "execution_count": 8,
   "id": "a4a4b7ad",
   "metadata": {
    "execution": {
     "iopub.execute_input": "2022-09-10T10:46:10.508547Z",
     "iopub.status.busy": "2022-09-10T10:46:10.507824Z",
     "iopub.status.idle": "2022-09-10T10:46:10.773804Z",
     "shell.execute_reply": "2022-09-10T10:46:10.774244Z",
     "shell.execute_reply.started": "2022-09-10T09:43:12.472286Z"
    },
    "papermill": {
     "duration": 0.296874,
     "end_time": "2022-09-10T10:46:10.774413",
     "exception": false,
     "start_time": "2022-09-10T10:46:10.477539",
     "status": "completed"
    },
    "tags": []
   },
   "outputs": [
    {
     "data": {
      "image/png": "[encoded data removed]",
      "text/plain": [
       "<Figure size 864x216 with 1 Axes>"
      ]
     },
     "metadata": {},
     "output_type": "display_data"
    }
   ],
   "source": [
    "plt.figure(figsize=(12,3))\n",
    "splot = sns.countplot(data = df.sort_values(by='category'), y ='category', palette='cool', saturation=0.9)\n",
    "plt.bar_label(container=splot.containers[0], \n",
    "              labels=['Normal', 'Viral Pneumonia', 'COVID'], \n",
    "              label_type='center', size=15, color='w')\n",
    "plt.show()"
   ]
  },
  {
   "cell_type": "markdown",
   "id": "4a36ca0b",
   "metadata": {
    "papermill": {
     "duration": 0.022903,
     "end_time": "2022-09-10T10:46:10.820516",
     "exception": false,
     "start_time": "2022-09-10T10:46:10.797613",
     "status": "completed"
    },
    "tags": []
   },
   "source": [
    "## Data Visualization"
   ]
  },
  {
   "cell_type": "code",
   "execution_count": 9,
   "id": "bc116a15",
   "metadata": {
    "execution": {
     "iopub.execute_input": "2022-09-10T10:46:10.871597Z",
     "iopub.status.busy": "2022-09-10T10:46:10.870988Z",
     "iopub.status.idle": "2022-09-10T10:46:11.115012Z",
     "shell.execute_reply": "2022-09-10T10:46:11.114462Z",
     "shell.execute_reply.started": "2022-09-10T09:43:14.211676Z"
    },
    "papermill": {
     "duration": 0.271073,
     "end_time": "2022-09-10T10:46:11.115176",
     "exception": false,
     "start_time": "2022-09-10T10:46:10.844103",
     "status": "completed"
    },
    "tags": []
   },
   "outputs": [
    {
     "data": {
      "image/png": "[encoded data removed]",
      "text/plain": [
       "<Figure size 432x288 with 1 Axes>"
      ]
     },
     "metadata": {},
     "output_type": "display_data"
    }
   ],
   "source": [
    "sample = random.choice(df['filename'])\n",
    "image = load_img(sample)\n",
    "plt.imshow(image)\n",
    "plt.show()"
   ]
  },
  {
   "cell_type": "markdown",
   "id": "b74ba2e8",
   "metadata": {
    "papermill": {
     "duration": 0.024647,
     "end_time": "2022-09-10T10:46:11.164176",
     "exception": false,
     "start_time": "2022-09-10T10:46:11.139529",
     "status": "completed"
    },
    "tags": []
   },
   "source": [
    "## Splitting Train, Validation & Test Data"
   ]
  },
  {
   "cell_type": "code",
   "execution_count": 10,
   "id": "929d3f49",
   "metadata": {
    "execution": {
     "iopub.execute_input": "2022-09-10T10:46:11.220623Z",
     "iopub.status.busy": "2022-09-10T10:46:11.220031Z",
     "iopub.status.idle": "2022-09-10T10:46:11.230666Z",
     "shell.execute_reply": "2022-09-10T10:46:11.229916Z",
     "shell.execute_reply.started": "2022-09-10T09:43:14.966724Z"
    },
    "papermill": {
     "duration": 0.042754,
     "end_time": "2022-09-10T10:46:11.230785",
     "exception": false,
     "start_time": "2022-09-10T10:46:11.188031",
     "status": "completed"
    },
    "tags": []
   },
   "outputs": [],
   "source": [
    "train_data, test_valid_data = train_test_split(df, test_size=0.2, random_state = 42, shuffle=True, stratify=df['category'])\n",
    "train_data = train_data.reset_index(drop=True)\n",
    "test_valid_data = test_valid_data.reset_index(drop=True)"
   ]
  },
  {
   "cell_type": "code",
   "execution_count": 11,
   "id": "2ddaf65f",
   "metadata": {
    "execution": {
     "iopub.execute_input": "2022-09-10T10:46:11.287386Z",
     "iopub.status.busy": "2022-09-10T10:46:11.286591Z",
     "iopub.status.idle": "2022-09-10T10:46:11.290876Z",
     "shell.execute_reply": "2022-09-10T10:46:11.290457Z",
     "shell.execute_reply.started": "2022-09-10T09:43:15.291494Z"
    },
    "papermill": {
     "duration": 0.035791,
     "end_time": "2022-09-10T10:46:11.290990",
     "exception": false,
     "start_time": "2022-09-10T10:46:11.255199",
     "status": "completed"
    },
    "tags": []
   },
   "outputs": [],
   "source": [
    "test_data, valid_data = train_test_split(test_valid_data, test_size=0.5, random_state = 42,\n",
    "                                         shuffle=True, stratify=test_valid_data['category'])\n",
    "test_data = test_data.reset_index(drop=True)\n",
    "valid_data = valid_data.reset_index(drop=True)"
   ]
  },
  {
   "cell_type": "markdown",
   "id": "cfd7ef9b",
   "metadata": {
    "papermill": {
     "duration": 0.023888,
     "end_time": "2022-09-10T10:46:11.339740",
     "exception": false,
     "start_time": "2022-09-10T10:46:11.315852",
     "status": "completed"
    },
    "tags": []
   },
   "source": [
    "## Data Augmentation"
   ]
  },
  {
   "cell_type": "code",
   "execution_count": 12,
   "id": "2fc02eba",
   "metadata": {
    "execution": {
     "iopub.execute_input": "2022-09-10T10:46:11.392977Z",
     "iopub.status.busy": "2022-09-10T10:46:11.391954Z",
     "iopub.status.idle": "2022-09-10T10:46:11.395448Z",
     "shell.execute_reply": "2022-09-10T10:46:11.395002Z",
     "shell.execute_reply.started": "2022-09-10T09:43:15.914946Z"
    },
    "papermill": {
     "duration": 0.031586,
     "end_time": "2022-09-10T10:46:11.395562",
     "exception": false,
     "start_time": "2022-09-10T10:46:11.363976",
     "status": "completed"
    },
    "tags": []
   },
   "outputs": [],
   "source": [
    "train_data_gen = ImageDataGenerator(\n",
    "    rotation_range=15,\n",
    "    rescale=1./255,\n",
    "    shear_range=0.1,\n",
    "    zoom_range=0.2,\n",
    "    horizontal_flip=True,\n",
    "    width_shift_range=0.1,\n",
    "    height_shift_range=0.1\n",
    ")"
   ]
  },
  {
   "cell_type": "code",
   "execution_count": 13,
   "id": "0e846ca0",
   "metadata": {
    "execution": {
     "iopub.execute_input": "2022-09-10T10:46:11.446994Z",
     "iopub.status.busy": "2022-09-10T10:46:11.446239Z",
     "iopub.status.idle": "2022-09-10T10:46:16.908978Z",
     "shell.execute_reply": "2022-09-10T10:46:16.908514Z",
     "shell.execute_reply.started": "2022-09-10T09:43:16.245324Z"
    },
    "papermill": {
     "duration": 5.489788,
     "end_time": "2022-09-10T10:46:16.909121",
     "exception": false,
     "start_time": "2022-09-10T10:46:11.419333",
     "status": "completed"
    },
    "tags": []
   },
   "outputs": [
    {
     "name": "stdout",
     "output_type": "stream",
     "text": [
      "Found 5968 validated image filenames belonging to 3 classes.\n"
     ]
    }
   ],
   "source": [
    "train_generator = train_data_gen.flow_from_dataframe(\n",
    "    train_data, \n",
    "    x_col='filename',\n",
    "    y_col='category',\n",
    "    target_size=(224,224),\n",
    "    class_mode='categorical',\n",
    "    batch_size=32\n",
    ")"
   ]
  },
  {
   "cell_type": "code",
   "execution_count": 14,
   "id": "0ed56813",
   "metadata": {
    "execution": {
     "iopub.execute_input": "2022-09-10T10:46:16.967611Z",
     "iopub.status.busy": "2022-09-10T10:46:16.966947Z",
     "iopub.status.idle": "2022-09-10T10:46:17.587477Z",
     "shell.execute_reply": "2022-09-10T10:46:17.588053Z",
     "shell.execute_reply.started": "2022-09-10T09:43:25.658323Z"
    },
    "papermill": {
     "duration": 0.653715,
     "end_time": "2022-09-10T10:46:17.588262",
     "exception": false,
     "start_time": "2022-09-10T10:46:16.934547",
     "status": "completed"
    },
    "tags": []
   },
   "outputs": [
    {
     "name": "stdout",
     "output_type": "stream",
     "text": [
      "Found 747 validated image filenames belonging to 3 classes.\n"
     ]
    }
   ],
   "source": [
    "valid_data_gen = ImageDataGenerator(rescale=1./255)\n",
    "\n",
    "valid_generator = valid_data_gen.flow_from_dataframe(\n",
    "    valid_data, \n",
    "    x_col='filename',\n",
    "    y_col='category',\n",
    "    target_size=(224,224),\n",
    "    class_mode='categorical',\n",
    "    batch_size=32\n",
    ")"
   ]
  },
  {
   "cell_type": "markdown",
   "id": "6d2591b1",
   "metadata": {
    "papermill": {
     "duration": 0.024684,
     "end_time": "2022-09-10T10:46:17.638497",
     "exception": false,
     "start_time": "2022-09-10T10:46:17.613813",
     "status": "completed"
    },
    "tags": []
   },
   "source": [
    "## Model Training - Xception"
   ]
  },
  {
   "cell_type": "markdown",
   "id": "1b02e0d8",
   "metadata": {
    "papermill": {
     "duration": 0.02404,
     "end_time": "2022-09-10T10:46:17.686955",
     "exception": false,
     "start_time": "2022-09-10T10:46:17.662915",
     "status": "completed"
    },
    "tags": []
   },
   "source": [
    "#### Model Architecture"
   ]
  },
  {
   "cell_type": "code",
   "execution_count": 15,
   "id": "58a6c078",
   "metadata": {
    "execution": {
     "iopub.execute_input": "2022-09-10T10:46:17.745854Z",
     "iopub.status.busy": "2022-09-10T10:46:17.745285Z",
     "iopub.status.idle": "2022-09-10T10:46:22.049493Z",
     "shell.execute_reply": "2022-09-10T10:46:22.048965Z",
     "shell.execute_reply.started": "2022-09-10T09:45:09.673005Z"
    },
    "papermill": {
     "duration": 4.338321,
     "end_time": "2022-09-10T10:46:22.049640",
     "exception": false,
     "start_time": "2022-09-10T10:46:17.711319",
     "status": "completed"
    },
    "tags": []
   },
   "outputs": [
    {
     "name": "stderr",
     "output_type": "stream",
     "text": [
      "2022-09-10 10:46:17.843597: I tensorflow/stream_executor/cuda/cuda_gpu_executor.cc:937] successful NUMA node read from SysFS had negative value (-1), but there must be at least one NUMA node, so returning NUMA node zero\n",
      "2022-09-10 10:46:17.933885: I tensorflow/stream_executor/cuda/cuda_gpu_executor.cc:937] successful NUMA node read from SysFS had negative value (-1), but there must be at least one NUMA node, so returning NUMA node zero\n",
      "2022-09-10 10:46:17.935005: I tensorflow/stream_executor/cuda/cuda_gpu_executor.cc:937] successful NUMA node read from SysFS had negative value (-1), but there must be at least one NUMA node, so returning NUMA node zero\n",
      "2022-09-10 10:46:17.936331: I tensorflow/core/platform/cpu_feature_guard.cc:142] This TensorFlow binary is optimized with oneAPI Deep Neural Network Library (oneDNN) to use the following CPU instructions in performance-critical operations:  AVX2 AVX512F FMA\n",
      "To enable them in other operations, rebuild TensorFlow with the appropriate compiler flags.\n",
      "2022-09-10 10:46:17.937286: I tensorflow/stream_executor/cuda/cuda_gpu_executor.cc:937] successful NUMA node read from SysFS had negative value (-1), but there must be at least one NUMA node, so returning NUMA node zero\n",
      "2022-09-10 10:46:17.937994: I tensorflow/stream_executor/cuda/cuda_gpu_executor.cc:937] successful NUMA node read from SysFS had negative value (-1), but there must be at least one NUMA node, so returning NUMA node zero\n",
      "2022-09-10 10:46:17.938665: I tensorflow/stream_executor/cuda/cuda_gpu_executor.cc:937] successful NUMA node read from SysFS had negative value (-1), but there must be at least one NUMA node, so returning NUMA node zero\n",
      "2022-09-10 10:46:20.052305: I tensorflow/stream_executor/cuda/cuda_gpu_executor.cc:937] successful NUMA node read from SysFS had negative value (-1), but there must be at least one NUMA node, so returning NUMA node zero\n",
      "2022-09-10 10:46:20.053157: I tensorflow/stream_executor/cuda/cuda_gpu_executor.cc:937] successful NUMA node read from SysFS had negative value (-1), but there must be at least one NUMA node, so returning NUMA node zero\n",
      "2022-09-10 10:46:20.053846: I tensorflow/stream_executor/cuda/cuda_gpu_executor.cc:937] successful NUMA node read from SysFS had negative value (-1), but there must be at least one NUMA node, so returning NUMA node zero\n",
      "2022-09-10 10:46:20.054487: I tensorflow/core/common_runtime/gpu/gpu_device.cc:1510] Created device /job:localhost/replica:0/task:0/device:GPU:0 with 15403 MB memory:  -> device: 0, name: Tesla P100-PCIE-16GB, pci bus id: 0000:00:04.0, compute capability: 6.0\n"
     ]
    },
    {
     "name": "stdout",
     "output_type": "stream",
     "text": [
      "Downloading data from https://storage.googleapis.com/tensorflow/keras-applications/xception/xception_weights_tf_dim_ordering_tf_kernels_notop.h5\n",
      "83689472/83683744 [==============================] - 0s 0us/step\n",
      "83697664/83683744 [==============================] - 0s 0us/step\n"
     ]
    }
   ],
   "source": [
    "engine = tf.keras.applications.Xception(\n",
    "        # Freezing the weights of the top layer in the InceptionResNetV2 pre-traiined model\n",
    "        include_top = False,\n",
    "\n",
    "        # Use Imagenet weights\n",
    "        weights = 'imagenet',\n",
    "\n",
    "        # Define input shape to 224x224x3\n",
    "        input_shape = (224 , 224 , 3),\n",
    "\n",
    "    )\n",
    "    \n",
    "x = tf.keras.layers.GlobalAveragePooling2D(name = 'avg_pool')(engine.output)\n",
    "x =tf.keras.layers.Dropout(0.75)(x)\n",
    "x = tf.keras.layers.BatchNormalization(\n",
    "                      axis=-1,\n",
    "                      momentum=0.99,\n",
    "                      epsilon=0.01,\n",
    "                      center=True,\n",
    "                      scale=True,\n",
    "                      beta_initializer=\"zeros\",\n",
    "                      gamma_initializer=\"ones\",\n",
    "                      moving_mean_initializer=\"zeros\",\n",
    "                      moving_variance_initializer=\"ones\",\n",
    "                  )(x)\n",
    "out = tf.keras.layers.Dense(3, activation = 'softmax', name = 'dense_output')(x)\n",
    "\n",
    "\n",
    "    # Build the Keras model\n",
    "model = tf.keras.models.Model(inputs = engine.input, outputs = out)\n",
    "    # Compile the model\n",
    "\n",
    "model.compile(\n",
    "        # Set optimizer to Adam(0.0001)\n",
    "        optimizer = tf.keras.optimizers.Adam(learning_rate= 3e-4),\n",
    "        #optimizer= SGD(lr=0.001, decay=1e-6, momentum=0.99, nesterov=True),\n",
    "        # Set loss to binary crossentropy\n",
    "        #loss = tf.keras.losses.SparseCategoricalCrossentropy(),\n",
    "        loss = 'categorical_crossentropy',\n",
    "        # Set metrics to accuracy\n",
    "        metrics = ['accuracy']\n",
    "    )\n"
   ]
  },
  {
   "cell_type": "markdown",
   "id": "be8fbf9b",
   "metadata": {
    "papermill": {
     "duration": 0.02879,
     "end_time": "2022-09-10T10:46:22.108216",
     "exception": false,
     "start_time": "2022-09-10T10:46:22.079426",
     "status": "completed"
    },
    "tags": []
   },
   "source": [
    "#### Model Summary"
   ]
  },
  {
   "cell_type": "code",
   "execution_count": 16,
   "id": "a7bc9eff",
   "metadata": {
    "execution": {
     "iopub.execute_input": "2022-09-10T10:46:22.181716Z",
     "iopub.status.busy": "2022-09-10T10:46:22.173631Z",
     "iopub.status.idle": "2022-09-10T10:46:22.237071Z",
     "shell.execute_reply": "2022-09-10T10:46:22.237686Z",
     "shell.execute_reply.started": "2022-09-10T09:45:12.726012Z"
    },
    "papermill": {
     "duration": 0.101819,
     "end_time": "2022-09-10T10:46:22.237880",
     "exception": false,
     "start_time": "2022-09-10T10:46:22.136061",
     "status": "completed"
    },
    "tags": []
   },
   "outputs": [
    {
     "name": "stdout",
     "output_type": "stream",
     "text": [
      "Model: \"model\"\n",
      "__________________________________________________________________________________________________\n",
      "Layer (type)                    Output Shape         Param #     Connected to                     \n",
      "==================================================================================================\n",
      "input_1 (InputLayer)            [(None, 224, 224, 3) 0                                            \n",
      "__________________________________________________________________________________________________\n",
      "block1_conv1 (Conv2D)           (None, 111, 111, 32) 864         input_1[0][0]                    \n",
      "__________________________________________________________________________________________________\n",
      "block1_conv1_bn (BatchNormaliza (None, 111, 111, 32) 128         block1_conv1[0][0]               \n",
      "__________________________________________________________________________________________________\n",
      "block1_conv1_act (Activation)   (None, 111, 111, 32) 0           block1_conv1_bn[0][0]            \n",
      "__________________________________________________________________________________________________\n",
      "block1_conv2 (Conv2D)           (None, 109, 109, 64) 18432       block1_conv1_act[0][0]           \n",
      "__________________________________________________________________________________________________\n",
      "block1_conv2_bn (BatchNormaliza (None, 109, 109, 64) 256         block1_conv2[0][0]               \n",
      "__________________________________________________________________________________________________\n",
      "block1_conv2_act (Activation)   (None, 109, 109, 64) 0           block1_conv2_bn[0][0]            \n",
      "__________________________________________________________________________________________________\n",
      "block2_sepconv1 (SeparableConv2 (None, 109, 109, 128 8768        block1_conv2_act[0][0]           \n",
      "__________________________________________________________________________________________________\n",
      "block2_sepconv1_bn (BatchNormal (None, 109, 109, 128 512         block2_sepconv1[0][0]            \n",
      "__________________________________________________________________________________________________\n",
      "block2_sepconv2_act (Activation (None, 109, 109, 128 0           block2_sepconv1_bn[0][0]         \n",
      "__________________________________________________________________________________________________\n",
      "block2_sepconv2 (SeparableConv2 (None, 109, 109, 128 17536       block2_sepconv2_act[0][0]        \n",
      "__________________________________________________________________________________________________\n",
      "block2_sepconv2_bn (BatchNormal (None, 109, 109, 128 512         block2_sepconv2[0][0]            \n",
      "__________________________________________________________________________________________________\n",
      "conv2d (Conv2D)                 (None, 55, 55, 128)  8192        block1_conv2_act[0][0]           \n",
      "__________________________________________________________________________________________________\n",
      "block2_pool (MaxPooling2D)      (None, 55, 55, 128)  0           block2_sepconv2_bn[0][0]         \n",
      "__________________________________________________________________________________________________\n",
      "batch_normalization (BatchNorma (None, 55, 55, 128)  512         conv2d[0][0]                     \n",
      "__________________________________________________________________________________________________\n",
      "add (Add)                       (None, 55, 55, 128)  0           block2_pool[0][0]                \n",
      "                                                                 batch_normalization[0][0]        \n",
      "__________________________________________________________________________________________________\n",
      "block3_sepconv1_act (Activation (None, 55, 55, 128)  0           add[0][0]                        \n",
      "__________________________________________________________________________________________________\n",
      "block3_sepconv1 (SeparableConv2 (None, 55, 55, 256)  33920       block3_sepconv1_act[0][0]        \n",
      "__________________________________________________________________________________________________\n",
      "block3_sepconv1_bn (BatchNormal (None, 55, 55, 256)  1024        block3_sepconv1[0][0]            \n",
      "__________________________________________________________________________________________________\n",
      "block3_sepconv2_act (Activation (None, 55, 55, 256)  0           block3_sepconv1_bn[0][0]         \n",
      "__________________________________________________________________________________________________\n",
      "block3_sepconv2 (SeparableConv2 (None, 55, 55, 256)  67840       block3_sepconv2_act[0][0]        \n",
      "__________________________________________________________________________________________________\n",
      "block3_sepconv2_bn (BatchNormal (None, 55, 55, 256)  1024        block3_sepconv2[0][0]            \n",
      "__________________________________________________________________________________________________\n",
      "conv2d_1 (Conv2D)               (None, 28, 28, 256)  32768       add[0][0]                        \n",
      "__________________________________________________________________________________________________\n",
      "block3_pool (MaxPooling2D)      (None, 28, 28, 256)  0           block3_sepconv2_bn[0][0]         \n",
      "__________________________________________________________________________________________________\n",
      "batch_normalization_1 (BatchNor (None, 28, 28, 256)  1024        conv2d_1[0][0]                   \n",
      "__________________________________________________________________________________________________\n",
      "add_1 (Add)                     (None, 28, 28, 256)  0           block3_pool[0][0]                \n",
      "                                                                 batch_normalization_1[0][0]      \n",
      "__________________________________________________________________________________________________\n",
      "block4_sepconv1_act (Activation (None, 28, 28, 256)  0           add_1[0][0]                      \n",
      "__________________________________________________________________________________________________\n",
      "block4_sepconv1 (SeparableConv2 (None, 28, 28, 728)  188672      block4_sepconv1_act[0][0]        \n",
      "__________________________________________________________________________________________________\n",
      "block4_sepconv1_bn (BatchNormal (None, 28, 28, 728)  2912        block4_sepconv1[0][0]            \n",
      "__________________________________________________________________________________________________\n",
      "block4_sepconv2_act (Activation (None, 28, 28, 728)  0           block4_sepconv1_bn[0][0]         \n",
      "__________________________________________________________________________________________________\n",
      "block4_sepconv2 (SeparableConv2 (None, 28, 28, 728)  536536      block4_sepconv2_act[0][0]        \n",
      "__________________________________________________________________________________________________\n",
      "block4_sepconv2_bn (BatchNormal (None, 28, 28, 728)  2912        block4_sepconv2[0][0]            \n",
      "__________________________________________________________________________________________________\n",
      "conv2d_2 (Conv2D)               (None, 14, 14, 728)  186368      add_1[0][0]                      \n",
      "__________________________________________________________________________________________________\n",
      "block4_pool (MaxPooling2D)      (None, 14, 14, 728)  0           block4_sepconv2_bn[0][0]         \n",
      "__________________________________________________________________________________________________\n",
      "batch_normalization_2 (BatchNor (None, 14, 14, 728)  2912        conv2d_2[0][0]                   \n",
      "__________________________________________________________________________________________________\n",
      "add_2 (Add)                     (None, 14, 14, 728)  0           block4_pool[0][0]                \n",
      "                                                                 batch_normalization_2[0][0]      \n",
      "__________________________________________________________________________________________________\n",
      "block5_sepconv1_act (Activation (None, 14, 14, 728)  0           add_2[0][0]                      \n",
      "__________________________________________________________________________________________________\n",
      "block5_sepconv1 (SeparableConv2 (None, 14, 14, 728)  536536      block5_sepconv1_act[0][0]        \n",
      "__________________________________________________________________________________________________\n",
      "block5_sepconv1_bn (BatchNormal (None, 14, 14, 728)  2912        block5_sepconv1[0][0]            \n",
      "__________________________________________________________________________________________________\n",
      "block5_sepconv2_act (Activation (None, 14, 14, 728)  0           block5_sepconv1_bn[0][0]         \n",
      "__________________________________________________________________________________________________\n",
      "block5_sepconv2 (SeparableConv2 (None, 14, 14, 728)  536536      block5_sepconv2_act[0][0]        \n",
      "__________________________________________________________________________________________________\n",
      "block5_sepconv2_bn (BatchNormal (None, 14, 14, 728)  2912        block5_sepconv2[0][0]            \n",
      "__________________________________________________________________________________________________\n",
      "block5_sepconv3_act (Activation (None, 14, 14, 728)  0           block5_sepconv2_bn[0][0]         \n",
      "__________________________________________________________________________________________________\n",
      "block5_sepconv3 (SeparableConv2 (None, 14, 14, 728)  536536      block5_sepconv3_act[0][0]        \n",
      "__________________________________________________________________________________________________\n",
      "block5_sepconv3_bn (BatchNormal (None, 14, 14, 728)  2912        block5_sepconv3[0][0]            \n",
      "__________________________________________________________________________________________________\n",
      "add_3 (Add)                     (None, 14, 14, 728)  0           block5_sepconv3_bn[0][0]         \n",
      "                                                                 add_2[0][0]                      \n",
      "__________________________________________________________________________________________________\n",
      "block6_sepconv1_act (Activation (None, 14, 14, 728)  0           add_3[0][0]                      \n",
      "__________________________________________________________________________________________________\n",
      "block6_sepconv1 (SeparableConv2 (None, 14, 14, 728)  536536      block6_sepconv1_act[0][0]        \n",
      "__________________________________________________________________________________________________\n",
      "block6_sepconv1_bn (BatchNormal (None, 14, 14, 728)  2912        block6_sepconv1[0][0]            \n",
      "__________________________________________________________________________________________________\n",
      "block6_sepconv2_act (Activation (None, 14, 14, 728)  0           block6_sepconv1_bn[0][0]         \n",
      "__________________________________________________________________________________________________\n",
      "block6_sepconv2 (SeparableConv2 (None, 14, 14, 728)  536536      block6_sepconv2_act[0][0]        \n",
      "__________________________________________________________________________________________________\n",
      "block6_sepconv2_bn (BatchNormal (None, 14, 14, 728)  2912        block6_sepconv2[0][0]            \n",
      "__________________________________________________________________________________________________\n",
      "block6_sepconv3_act (Activation (None, 14, 14, 728)  0           block6_sepconv2_bn[0][0]         \n",
      "__________________________________________________________________________________________________\n",
      "block6_sepconv3 (SeparableConv2 (None, 14, 14, 728)  536536      block6_sepconv3_act[0][0]        \n",
      "__________________________________________________________________________________________________\n",
      "block6_sepconv3_bn (BatchNormal (None, 14, 14, 728)  2912        block6_sepconv3[0][0]            \n",
      "__________________________________________________________________________________________________\n",
      "add_4 (Add)                     (None, 14, 14, 728)  0           block6_sepconv3_bn[0][0]         \n",
      "                                                                 add_3[0][0]                      \n",
      "__________________________________________________________________________________________________\n",
      "block7_sepconv1_act (Activation (None, 14, 14, 728)  0           add_4[0][0]                      \n",
      "__________________________________________________________________________________________________\n",
      "block7_sepconv1 (SeparableConv2 (None, 14, 14, 728)  536536      block7_sepconv1_act[0][0]        \n",
      "__________________________________________________________________________________________________\n",
      "block7_sepconv1_bn (BatchNormal (None, 14, 14, 728)  2912        block7_sepconv1[0][0]            \n",
      "__________________________________________________________________________________________________\n",
      "block7_sepconv2_act (Activation (None, 14, 14, 728)  0           block7_sepconv1_bn[0][0]         \n",
      "__________________________________________________________________________________________________\n",
      "block7_sepconv2 (SeparableConv2 (None, 14, 14, 728)  536536      block7_sepconv2_act[0][0]        \n",
      "__________________________________________________________________________________________________\n",
      "block7_sepconv2_bn (BatchNormal (None, 14, 14, 728)  2912        block7_sepconv2[0][0]            \n",
      "__________________________________________________________________________________________________\n",
      "block7_sepconv3_act (Activation (None, 14, 14, 728)  0           block7_sepconv2_bn[0][0]         \n",
      "__________________________________________________________________________________________________\n",
      "block7_sepconv3 (SeparableConv2 (None, 14, 14, 728)  536536      block7_sepconv3_act[0][0]        \n",
      "__________________________________________________________________________________________________\n",
      "block7_sepconv3_bn (BatchNormal (None, 14, 14, 728)  2912        block7_sepconv3[0][0]            \n",
      "__________________________________________________________________________________________________\n",
      "add_5 (Add)                     (None, 14, 14, 728)  0           block7_sepconv3_bn[0][0]         \n",
      "                                                                 add_4[0][0]                      \n",
      "__________________________________________________________________________________________________\n",
      "block8_sepconv1_act (Activation (None, 14, 14, 728)  0           add_5[0][0]                      \n",
      "__________________________________________________________________________________________________\n",
      "block8_sepconv1 (SeparableConv2 (None, 14, 14, 728)  536536      block8_sepconv1_act[0][0]        \n",
      "__________________________________________________________________________________________________\n",
      "block8_sepconv1_bn (BatchNormal (None, 14, 14, 728)  2912        block8_sepconv1[0][0]            \n",
      "__________________________________________________________________________________________________\n",
      "block8_sepconv2_act (Activation (None, 14, 14, 728)  0           block8_sepconv1_bn[0][0]         \n",
      "__________________________________________________________________________________________________\n",
      "block8_sepconv2 (SeparableConv2 (None, 14, 14, 728)  536536      block8_sepconv2_act[0][0]        \n",
      "__________________________________________________________________________________________________\n",
      "block8_sepconv2_bn (BatchNormal (None, 14, 14, 728)  2912        block8_sepconv2[0][0]            \n",
      "__________________________________________________________________________________________________\n",
      "block8_sepconv3_act (Activation (None, 14, 14, 728)  0           block8_sepconv2_bn[0][0]         \n",
      "__________________________________________________________________________________________________\n",
      "block8_sepconv3 (SeparableConv2 (None, 14, 14, 728)  536536      block8_sepconv3_act[0][0]        \n",
      "__________________________________________________________________________________________________\n",
      "block8_sepconv3_bn (BatchNormal (None, 14, 14, 728)  2912        block8_sepconv3[0][0]            \n",
      "__________________________________________________________________________________________________\n",
      "add_6 (Add)                     (None, 14, 14, 728)  0           block8_sepconv3_bn[0][0]         \n",
      "                                                                 add_5[0][0]                      \n",
      "__________________________________________________________________________________________________\n",
      "block9_sepconv1_act (Activation (None, 14, 14, 728)  0           add_6[0][0]                      \n",
      "__________________________________________________________________________________________________\n",
      "block9_sepconv1 (SeparableConv2 (None, 14, 14, 728)  536536      block9_sepconv1_act[0][0]        \n",
      "__________________________________________________________________________________________________\n",
      "block9_sepconv1_bn (BatchNormal (None, 14, 14, 728)  2912        block9_sepconv1[0][0]            \n",
      "__________________________________________________________________________________________________\n",
      "block9_sepconv2_act (Activation (None, 14, 14, 728)  0           block9_sepconv1_bn[0][0]         \n",
      "__________________________________________________________________________________________________\n",
      "block9_sepconv2 (SeparableConv2 (None, 14, 14, 728)  536536      block9_sepconv2_act[0][0]        \n",
      "__________________________________________________________________________________________________\n",
      "block9_sepconv2_bn (BatchNormal (None, 14, 14, 728)  2912        block9_sepconv2[0][0]            \n",
      "__________________________________________________________________________________________________\n",
      "block9_sepconv3_act (Activation (None, 14, 14, 728)  0           block9_sepconv2_bn[0][0]         \n",
      "__________________________________________________________________________________________________\n",
      "block9_sepconv3 (SeparableConv2 (None, 14, 14, 728)  536536      block9_sepconv3_act[0][0]        \n",
      "__________________________________________________________________________________________________\n",
      "block9_sepconv3_bn (BatchNormal (None, 14, 14, 728)  2912        block9_sepconv3[0][0]            \n",
      "__________________________________________________________________________________________________\n",
      "add_7 (Add)                     (None, 14, 14, 728)  0           block9_sepconv3_bn[0][0]         \n",
      "                                                                 add_6[0][0]                      \n",
      "__________________________________________________________________________________________________\n",
      "block10_sepconv1_act (Activatio (None, 14, 14, 728)  0           add_7[0][0]                      \n",
      "__________________________________________________________________________________________________\n",
      "block10_sepconv1 (SeparableConv (None, 14, 14, 728)  536536      block10_sepconv1_act[0][0]       \n",
      "__________________________________________________________________________________________________\n",
      "block10_sepconv1_bn (BatchNorma (None, 14, 14, 728)  2912        block10_sepconv1[0][0]           \n",
      "__________________________________________________________________________________________________\n",
      "block10_sepconv2_act (Activatio (None, 14, 14, 728)  0           block10_sepconv1_bn[0][0]        \n",
      "__________________________________________________________________________________________________\n",
      "block10_sepconv2 (SeparableConv (None, 14, 14, 728)  536536      block10_sepconv2_act[0][0]       \n",
      "__________________________________________________________________________________________________\n",
      "block10_sepconv2_bn (BatchNorma (None, 14, 14, 728)  2912        block10_sepconv2[0][0]           \n",
      "__________________________________________________________________________________________________\n",
      "block10_sepconv3_act (Activatio (None, 14, 14, 728)  0           block10_sepconv2_bn[0][0]        \n",
      "__________________________________________________________________________________________________\n",
      "block10_sepconv3 (SeparableConv (None, 14, 14, 728)  536536      block10_sepconv3_act[0][0]       \n",
      "__________________________________________________________________________________________________\n",
      "block10_sepconv3_bn (BatchNorma (None, 14, 14, 728)  2912        block10_sepconv3[0][0]           \n",
      "__________________________________________________________________________________________________\n",
      "add_8 (Add)                     (None, 14, 14, 728)  0           block10_sepconv3_bn[0][0]        \n",
      "                                                                 add_7[0][0]                      \n",
      "__________________________________________________________________________________________________\n",
      "block11_sepconv1_act (Activatio (None, 14, 14, 728)  0           add_8[0][0]                      \n",
      "__________________________________________________________________________________________________\n",
      "block11_sepconv1 (SeparableConv (None, 14, 14, 728)  536536      block11_sepconv1_act[0][0]       \n",
      "__________________________________________________________________________________________________\n",
      "block11_sepconv1_bn (BatchNorma (None, 14, 14, 728)  2912        block11_sepconv1[0][0]           \n",
      "__________________________________________________________________________________________________\n",
      "block11_sepconv2_act (Activatio (None, 14, 14, 728)  0           block11_sepconv1_bn[0][0]        \n",
      "__________________________________________________________________________________________________\n",
      "block11_sepconv2 (SeparableConv (None, 14, 14, 728)  536536      block11_sepconv2_act[0][0]       \n",
      "__________________________________________________________________________________________________\n",
      "block11_sepconv2_bn (BatchNorma (None, 14, 14, 728)  2912        block11_sepconv2[0][0]           \n",
      "__________________________________________________________________________________________________\n",
      "block11_sepconv3_act (Activatio (None, 14, 14, 728)  0           block11_sepconv2_bn[0][0]        \n",
      "__________________________________________________________________________________________________\n",
      "block11_sepconv3 (SeparableConv (None, 14, 14, 728)  536536      block11_sepconv3_act[0][0]       \n",
      "__________________________________________________________________________________________________\n",
      "block11_sepconv3_bn (BatchNorma (None, 14, 14, 728)  2912        block11_sepconv3[0][0]           \n",
      "__________________________________________________________________________________________________\n",
      "add_9 (Add)                     (None, 14, 14, 728)  0           block11_sepconv3_bn[0][0]        \n",
      "                                                                 add_8[0][0]                      \n",
      "__________________________________________________________________________________________________\n",
      "block12_sepconv1_act (Activatio (None, 14, 14, 728)  0           add_9[0][0]                      \n",
      "__________________________________________________________________________________________________\n",
      "block12_sepconv1 (SeparableConv (None, 14, 14, 728)  536536      block12_sepconv1_act[0][0]       \n",
      "__________________________________________________________________________________________________\n",
      "block12_sepconv1_bn (BatchNorma (None, 14, 14, 728)  2912        block12_sepconv1[0][0]           \n",
      "__________________________________________________________________________________________________\n",
      "block12_sepconv2_act (Activatio (None, 14, 14, 728)  0           block12_sepconv1_bn[0][0]        \n",
      "__________________________________________________________________________________________________\n",
      "block12_sepconv2 (SeparableConv (None, 14, 14, 728)  536536      block12_sepconv2_act[0][0]       \n",
      "__________________________________________________________________________________________________\n",
      "block12_sepconv2_bn (BatchNorma (None, 14, 14, 728)  2912        block12_sepconv2[0][0]           \n",
      "__________________________________________________________________________________________________\n",
      "block12_sepconv3_act (Activatio (None, 14, 14, 728)  0           block12_sepconv2_bn[0][0]        \n",
      "__________________________________________________________________________________________________\n",
      "block12_sepconv3 (SeparableConv (None, 14, 14, 728)  536536      block12_sepconv3_act[0][0]       \n",
      "__________________________________________________________________________________________________\n",
      "block12_sepconv3_bn (BatchNorma (None, 14, 14, 728)  2912        block12_sepconv3[0][0]           \n",
      "__________________________________________________________________________________________________\n",
      "add_10 (Add)                    (None, 14, 14, 728)  0           block12_sepconv3_bn[0][0]        \n",
      "                                                                 add_9[0][0]                      \n",
      "__________________________________________________________________________________________________\n",
      "block13_sepconv1_act (Activatio (None, 14, 14, 728)  0           add_10[0][0]                     \n",
      "__________________________________________________________________________________________________\n",
      "block13_sepconv1 (SeparableConv (None, 14, 14, 728)  536536      block13_sepconv1_act[0][0]       \n",
      "__________________________________________________________________________________________________\n",
      "block13_sepconv1_bn (BatchNorma (None, 14, 14, 728)  2912        block13_sepconv1[0][0]           \n",
      "__________________________________________________________________________________________________\n",
      "block13_sepconv2_act (Activatio (None, 14, 14, 728)  0           block13_sepconv1_bn[0][0]        \n",
      "__________________________________________________________________________________________________\n",
      "block13_sepconv2 (SeparableConv (None, 14, 14, 1024) 752024      block13_sepconv2_act[0][0]       \n",
      "__________________________________________________________________________________________________\n",
      "block13_sepconv2_bn (BatchNorma (None, 14, 14, 1024) 4096        block13_sepconv2[0][0]           \n",
      "__________________________________________________________________________________________________\n",
      "conv2d_3 (Conv2D)               (None, 7, 7, 1024)   745472      add_10[0][0]                     \n",
      "__________________________________________________________________________________________________\n",
      "block13_pool (MaxPooling2D)     (None, 7, 7, 1024)   0           block13_sepconv2_bn[0][0]        \n",
      "__________________________________________________________________________________________________\n",
      "batch_normalization_3 (BatchNor (None, 7, 7, 1024)   4096        conv2d_3[0][0]                   \n",
      "__________________________________________________________________________________________________\n",
      "add_11 (Add)                    (None, 7, 7, 1024)   0           block13_pool[0][0]               \n",
      "                                                                 batch_normalization_3[0][0]      \n",
      "__________________________________________________________________________________________________\n",
      "block14_sepconv1 (SeparableConv (None, 7, 7, 1536)   1582080     add_11[0][0]                     \n",
      "__________________________________________________________________________________________________\n",
      "block14_sepconv1_bn (BatchNorma (None, 7, 7, 1536)   6144        block14_sepconv1[0][0]           \n",
      "__________________________________________________________________________________________________\n",
      "block14_sepconv1_act (Activatio (None, 7, 7, 1536)   0           block14_sepconv1_bn[0][0]        \n",
      "__________________________________________________________________________________________________\n",
      "block14_sepconv2 (SeparableConv (None, 7, 7, 2048)   3159552     block14_sepconv1_act[0][0]       \n",
      "__________________________________________________________________________________________________\n",
      "block14_sepconv2_bn (BatchNorma (None, 7, 7, 2048)   8192        block14_sepconv2[0][0]           \n",
      "__________________________________________________________________________________________________\n",
      "block14_sepconv2_act (Activatio (None, 7, 7, 2048)   0           block14_sepconv2_bn[0][0]        \n",
      "__________________________________________________________________________________________________\n",
      "avg_pool (GlobalAveragePooling2 (None, 2048)         0           block14_sepconv2_act[0][0]       \n",
      "__________________________________________________________________________________________________\n",
      "dropout (Dropout)               (None, 2048)         0           avg_pool[0][0]                   \n",
      "__________________________________________________________________________________________________\n",
      "batch_normalization_4 (BatchNor (None, 2048)         8192        dropout[0][0]                    \n",
      "__________________________________________________________________________________________________\n",
      "dense_output (Dense)            (None, 3)            6147        batch_normalization_4[0][0]      \n",
      "==================================================================================================\n",
      "Total params: 20,875,819\n",
      "Trainable params: 20,817,195\n",
      "Non-trainable params: 58,624\n",
      "__________________________________________________________________________________________________\n"
     ]
    }
   ],
   "source": [
    "model.summary()"
   ]
  },
  {
   "cell_type": "code",
   "execution_count": 17,
   "id": "03213582",
   "metadata": {
    "execution": {
     "iopub.execute_input": "2022-09-10T10:46:22.310468Z",
     "iopub.status.busy": "2022-09-10T10:46:22.309887Z",
     "iopub.status.idle": "2022-09-10T10:46:22.313173Z",
     "shell.execute_reply": "2022-09-10T10:46:22.313683Z",
     "shell.execute_reply.started": "2022-09-10T09:45:13.734134Z"
    },
    "papermill": {
     "duration": 0.037294,
     "end_time": "2022-09-10T10:46:22.313826",
     "exception": false,
     "start_time": "2022-09-10T10:46:22.276532",
     "status": "completed"
    },
    "tags": []
   },
   "outputs": [],
   "source": [
    "early_stopping = tf.keras.callbacks.EarlyStopping(monitor='loss', patience=3)\n",
    "learning_rate_reduction = keras.callbacks.ReduceLROnPlateau(monitor='val_accuracy',\n",
    "                                                            patience=2,\n",
    "                                                            verbose=2,\n",
    "                                                            factor=0.5,\n",
    "                                                            min_lr=0.00001)\n",
    "reduce_lr =  keras.callbacks.ReduceLROnPlateau(monitor='val_loss', factor=0.5,\n",
    "                              patience=3, min_lr=0.00001)"
   ]
  },
  {
   "cell_type": "code",
   "execution_count": 18,
   "id": "2d6ee7a7",
   "metadata": {
    "execution": {
     "iopub.execute_input": "2022-09-10T10:46:22.383848Z",
     "iopub.status.busy": "2022-09-10T10:46:22.382067Z",
     "iopub.status.idle": "2022-09-10T11:15:39.608736Z",
     "shell.execute_reply": "2022-09-10T11:15:39.609334Z",
     "shell.execute_reply.started": "2022-09-10T09:45:14.295825Z"
    },
    "papermill": {
     "duration": 1757.262438,
     "end_time": "2022-09-10T11:15:39.609558",
     "exception": false,
     "start_time": "2022-09-10T10:46:22.347120",
     "status": "completed"
    },
    "tags": []
   },
   "outputs": [
    {
     "name": "stderr",
     "output_type": "stream",
     "text": [
      "2022-09-10 10:46:22.989481: I tensorflow/compiler/mlir/mlir_graph_optimization_pass.cc:185] None of the MLIR Optimization Passes are enabled (registered 2)\n"
     ]
    },
    {
     "name": "stdout",
     "output_type": "stream",
     "text": [
      "Epoch 1/500\n"
     ]
    },
    {
     "name": "stderr",
     "output_type": "stream",
     "text": [
      "2022-09-10 10:46:29.066696: I tensorflow/stream_executor/cuda/cuda_dnn.cc:369] Loaded cuDNN version 8005\n"
     ]
    },
    {
     "name": "stdout",
     "output_type": "stream",
     "text": [
      "187/187 [==============================] - 134s 654ms/step - loss: 0.3435 - accuracy: 0.8725 - val_loss: 0.5054 - val_accuracy: 0.8220\n",
      "Epoch 2/500\n",
      "187/187 [==============================] - 103s 549ms/step - loss: 0.1642 - accuracy: 0.9424 - val_loss: 0.2255 - val_accuracy: 0.9250\n",
      "Epoch 3/500\n",
      "187/187 [==============================] - 105s 559ms/step - loss: 0.1153 - accuracy: 0.9593 - val_loss: 0.1452 - val_accuracy: 0.9545\n",
      "Epoch 4/500\n",
      "187/187 [==============================] - 105s 561ms/step - loss: 0.1042 - accuracy: 0.9643 - val_loss: 0.1184 - val_accuracy: 0.9531\n",
      "Epoch 5/500\n",
      "187/187 [==============================] - 104s 557ms/step - loss: 0.0888 - accuracy: 0.9720 - val_loss: 0.0895 - val_accuracy: 0.9746\n",
      "Epoch 6/500\n",
      "187/187 [==============================] - 104s 556ms/step - loss: 0.0829 - accuracy: 0.9725 - val_loss: 0.2253 - val_accuracy: 0.9063\n",
      "Epoch 7/500\n",
      "187/187 [==============================] - 106s 563ms/step - loss: 0.0676 - accuracy: 0.9780 - val_loss: 0.4176 - val_accuracy: 0.8768\n",
      "\n",
      "Epoch 00007: ReduceLROnPlateau reducing learning rate to 0.0001500000071246177.\n",
      "Epoch 8/500\n",
      "187/187 [==============================] - 104s 553ms/step - loss: 0.0408 - accuracy: 0.9866 - val_loss: 0.0449 - val_accuracy: 0.9866\n",
      "Epoch 9/500\n",
      "187/187 [==============================] - 104s 555ms/step - loss: 0.0347 - accuracy: 0.9874 - val_loss: 0.0564 - val_accuracy: 0.9839\n",
      "Epoch 10/500\n",
      "187/187 [==============================] - 105s 558ms/step - loss: 0.0274 - accuracy: 0.9906 - val_loss: 0.0760 - val_accuracy: 0.9719\n",
      "\n",
      "Epoch 00010: ReduceLROnPlateau reducing learning rate to 7.500000356230885e-05.\n",
      "Epoch 11/500\n",
      "187/187 [==============================] - 105s 562ms/step - loss: 0.0250 - accuracy: 0.9920 - val_loss: 0.0659 - val_accuracy: 0.9746\n",
      "Epoch 12/500\n",
      "187/187 [==============================] - 104s 554ms/step - loss: 0.0161 - accuracy: 0.9940 - val_loss: 0.0460 - val_accuracy: 0.9853\n",
      "\n",
      "Epoch 00012: ReduceLROnPlateau reducing learning rate to 1.8750000890577212e-05.\n",
      "Epoch 13/500\n",
      "187/187 [==============================] - 105s 558ms/step - loss: 0.0102 - accuracy: 0.9966 - val_loss: 0.0393 - val_accuracy: 0.9866\n",
      "Epoch 14/500\n",
      "187/187 [==============================] - 105s 562ms/step - loss: 0.0123 - accuracy: 0.9960 - val_loss: 0.0421 - val_accuracy: 0.9880\n",
      "Epoch 15/500\n",
      "187/187 [==============================] - 107s 571ms/step - loss: 0.0108 - accuracy: 0.9968 - val_loss: 0.0386 - val_accuracy: 0.9933\n",
      "Epoch 16/500\n",
      "187/187 [==============================] - 106s 564ms/step - loss: 0.0103 - accuracy: 0.9965 - val_loss: 0.0514 - val_accuracy: 0.9853\n"
     ]
    }
   ],
   "source": [
    " history = model.fit(train_generator,\n",
    "                              validation_data=valid_generator, verbose=1, epochs=500,\n",
    "                       callbacks=[early_stopping, reduce_lr , learning_rate_reduction]\n",
    "                        )"
   ]
  },
  {
   "cell_type": "markdown",
   "id": "2bfb5f26",
   "metadata": {
    "papermill": {
     "duration": 0.75166,
     "end_time": "2022-09-10T11:15:41.160177",
     "exception": false,
     "start_time": "2022-09-10T11:15:40.408517",
     "status": "completed"
    },
    "tags": []
   },
   "source": [
    "# Final Test"
   ]
  },
  {
   "cell_type": "code",
   "execution_count": 19,
   "id": "03a7f545",
   "metadata": {
    "execution": {
     "iopub.execute_input": "2022-09-10T11:15:42.677117Z",
     "iopub.status.busy": "2022-09-10T11:15:42.676498Z",
     "iopub.status.idle": "2022-09-10T11:15:43.907149Z",
     "shell.execute_reply": "2022-09-10T11:15:43.907554Z",
     "shell.execute_reply.started": "2022-09-10T10:33:17.670454Z"
    },
    "papermill": {
     "duration": 1.995638,
     "end_time": "2022-09-10T11:15:43.907716",
     "exception": false,
     "start_time": "2022-09-10T11:15:41.912078",
     "status": "completed"
    },
    "tags": []
   },
   "outputs": [
    {
     "name": "stdout",
     "output_type": "stream",
     "text": [
      "Found 746 validated image filenames belonging to 3 classes.\n"
     ]
    }
   ],
   "source": [
    "test_set = valid_data_gen.flow_from_dataframe(\n",
    "    test_data, \n",
    "    x_col='filename',\n",
    "    y_col='category',\n",
    "    target_size=(224,224),\n",
    "    class_mode='categorical',\n",
    "    batch_size=32,\n",
    "    shuffle=False\n",
    ")"
   ]
  },
  {
   "cell_type": "code",
   "execution_count": 20,
   "id": "2e7c2917",
   "metadata": {
    "execution": {
     "iopub.execute_input": "2022-09-10T11:15:45.418009Z",
     "iopub.status.busy": "2022-09-10T11:15:45.416188Z",
     "iopub.status.idle": "2022-09-10T11:15:50.770201Z",
     "shell.execute_reply": "2022-09-10T11:15:50.770620Z",
     "shell.execute_reply.started": "2022-09-10T10:33:19.049647Z"
    },
    "papermill": {
     "duration": 6.111703,
     "end_time": "2022-09-10T11:15:50.770781",
     "exception": false,
     "start_time": "2022-09-10T11:15:44.659078",
     "status": "completed"
    },
    "tags": []
   },
   "outputs": [
    {
     "name": "stdout",
     "output_type": "stream",
     "text": [
      "24/24 [==============================] - 5s 210ms/step - loss: 0.0453 - accuracy: 0.9866\n"
     ]
    },
    {
     "data": {
      "text/plain": [
       "[0.0453316755592823, 0.9865951538085938]"
      ]
     },
     "execution_count": 20,
     "metadata": {},
     "output_type": "execute_result"
    }
   ],
   "source": [
    " model.evaluate(test_set)"
   ]
  },
  {
   "cell_type": "code",
   "execution_count": 21,
   "id": "512300c9",
   "metadata": {
    "execution": {
     "iopub.execute_input": "2022-09-10T11:15:52.294220Z",
     "iopub.status.busy": "2022-09-10T11:15:52.292781Z",
     "iopub.status.idle": "2022-09-10T11:15:55.422505Z",
     "shell.execute_reply": "2022-09-10T11:15:55.421883Z",
     "shell.execute_reply.started": "2022-09-10T10:33:24.338455Z"
    },
    "papermill": {
     "duration": 3.894087,
     "end_time": "2022-09-10T11:15:55.422676",
     "exception": false,
     "start_time": "2022-09-10T11:15:51.528589",
     "status": "completed"
    },
    "tags": []
   },
   "outputs": [
    {
     "name": "stdout",
     "output_type": "stream",
     "text": [
      "\n",
      "\n",
      "                 precision    recall  f1-score   support\n",
      "\n",
      "         Normal    0.98780   0.97200   0.97984       250\n",
      "Viral Pneumonia    0.97794   0.99254   0.98519       134\n",
      "          COVID    0.98901   0.99448   0.99174       362\n",
      "\n",
      "       accuracy                        0.98660       746\n",
      "      macro avg    0.98492   0.98634   0.98559       746\n",
      "   weighted avg    0.98662   0.98660   0.98657       746\n",
      "\n"
     ]
    }
   ],
   "source": [
    "prob = model.predict(test_set)\n",
    "predIdxs = np.argmax(prob, axis=1) \n",
    "\n",
    "\n",
    "print('\\n')\n",
    "print(classification_report(test_set.labels, predIdxs,target_names = ['Normal','Viral Pneumonia', 'COVID'], digits=5))"
   ]
  },
  {
   "cell_type": "markdown",
   "id": "f1a03d3d",
   "metadata": {
    "papermill": {
     "duration": 0.859281,
     "end_time": "2022-09-10T11:15:57.052522",
     "exception": false,
     "start_time": "2022-09-10T11:15:56.193241",
     "status": "completed"
    },
    "tags": []
   },
   "source": [
    "## Saving Model"
   ]
  },
  {
   "cell_type": "code",
   "execution_count": 22,
   "id": "bf3a3d25",
   "metadata": {
    "execution": {
     "iopub.execute_input": "2022-09-10T11:15:59.190274Z",
     "iopub.status.busy": "2022-09-10T11:15:59.169799Z",
     "iopub.status.idle": "2022-09-10T11:15:59.982694Z",
     "shell.execute_reply": "2022-09-10T11:15:59.983173Z",
     "shell.execute_reply.started": "2022-09-10T10:33:36.196957Z"
    },
    "papermill": {
     "duration": 1.827071,
     "end_time": "2022-09-10T11:15:59.983347",
     "exception": false,
     "start_time": "2022-09-10T11:15:58.156276",
     "status": "completed"
    },
    "tags": []
   },
   "outputs": [],
   "source": [
    "model.save('Covid.h5')"
   ]
  },
  {
   "cell_type": "markdown",
   "id": "393a9850",
   "metadata": {
    "papermill": {
     "duration": 0.760301,
     "end_time": "2022-09-10T11:16:01.536989",
     "exception": false,
     "start_time": "2022-09-10T11:16:00.776688",
     "status": "completed"
    },
    "tags": []
   },
   "source": [
    "## Plotting \n",
    "* Training & Validation Loss\n",
    "* Training & Validation Loss"
   ]
  },
  {
   "cell_type": "code",
   "execution_count": 23,
   "id": "f3afed6e",
   "metadata": {
    "execution": {
     "iopub.execute_input": "2022-09-10T11:16:03.084272Z",
     "iopub.status.busy": "2022-09-10T11:16:03.077142Z",
     "iopub.status.idle": "2022-09-10T11:16:03.783652Z",
     "shell.execute_reply": "2022-09-10T11:16:03.784084Z",
     "shell.execute_reply.started": "2022-09-10T10:33:54.886981Z"
    },
    "papermill": {
     "duration": 1.484714,
     "end_time": "2022-09-10T11:16:03.784258",
     "exception": false,
     "start_time": "2022-09-10T11:16:02.299544",
     "status": "completed"
    },
    "tags": []
   },
   "outputs": [
    {
     "data": {
      "image/png": "[encoded data removed]",
      "text/plain": [
       "<Figure size 864x864 with 2 Axes>"
      ]
     },
     "metadata": {},
     "output_type": "display_data"
    }
   ],
   "source": [
    "fig, (ax1, ax2) = plt.subplots(2, 1, figsize=(12, 12))\n",
    "ax1.plot(history.history['loss'], color='b', label=\"Training loss\")\n",
    "ax1.plot(history.history['val_loss'], color='r', label=\"validation loss\")\n",
    "ax1.set_xticks(np.arange(1, 26, 1))\n",
    "ax1.set_yticks(np.arange(0, 1, 0.1))\n",
    "\n",
    "ax2.plot(history.history['accuracy'], color='b', label=\"Training accuracy\")\n",
    "ax2.plot(history.history['val_accuracy'], color='r',label=\"Validation accuracy\")\n",
    "ax2.set_xticks(np.arange(1, 26, 1))\n",
    "\n",
    "legend = plt.legend(loc='best', shadow=True)\n",
    "plt.tight_layout()\n",
    "plt.show()"
   ]
  },
  {
   "cell_type": "markdown",
   "id": "da674201",
   "metadata": {
    "papermill": {
     "duration": 0.756603,
     "end_time": "2022-09-10T11:16:05.297166",
     "exception": false,
     "start_time": "2022-09-10T11:16:04.540563",
     "status": "completed"
    },
    "tags": []
   },
   "source": [
    "## Model Testing"
   ]
  },
  {
   "cell_type": "code",
   "execution_count": 24,
   "id": "0311ca5e",
   "metadata": {
    "execution": {
     "iopub.execute_input": "2022-09-10T11:16:06.824291Z",
     "iopub.status.busy": "2022-09-10T11:16:06.823606Z",
     "iopub.status.idle": "2022-09-10T11:16:07.859085Z",
     "shell.execute_reply": "2022-09-10T11:16:07.859528Z",
     "shell.execute_reply.started": "2022-09-10T10:44:45.106254Z"
    },
    "papermill": {
     "duration": 1.804692,
     "end_time": "2022-09-10T11:16:07.859682",
     "exception": false,
     "start_time": "2022-09-10T11:16:06.054990",
     "status": "completed"
    },
    "tags": []
   },
   "outputs": [
    {
     "name": "stdout",
     "output_type": "stream",
     "text": [
      "True value is : Normal\n",
      "Prediction is:\n",
      "Normal\n"
     ]
    },
    {
     "data": {
      "text/plain": [
       "<matplotlib.image.AxesImage at 0x7fce94946190>"
      ]
     },
     "execution_count": 24,
     "metadata": {},
     "output_type": "execute_result"
    },
    {
     "data": {
      "image/png": "[encoded data removed]",
      "text/plain": [
       "<Figure size 432x288 with 1 Axes>"
      ]
     },
     "metadata": {},
     "output_type": "display_data"
    }
   ],
   "source": [
    "sample = random.choice(test_data['filename'])\n",
    "\n",
    "\n",
    "category = sample.split('/')[-1].split('-')[0].upper()\n",
    "true = ''\n",
    "if category == 'COVID':\n",
    "    true = 'COVID'\n",
    "elif category == 'VIRAL PNEUMONIA':\n",
    "    true = 'Viral Pneumonia'\n",
    "else:\n",
    "    true = 'Normal'\n",
    "\n",
    "print(f'True value is : {true}')\n",
    "    \n",
    "image = load_img(sample, target_size=(224, 224))\n",
    "img = img_to_array(image)/255\n",
    "img = img.reshape((1, 224, 224, 3))\n",
    "\n",
    "result = model.predict(img)\n",
    "result = np.argmax(result, axis=-1)\n",
    "print('Prediction is:')\n",
    "if result == 0:\n",
    "    print(\"Normal\")\n",
    "elif result == 1:\n",
    "    print(\"Viral Pneumonia\")\n",
    "else:\n",
    "    print(\"COVID \")\n",
    "    \n",
    "plt.imshow(image)"
   ]
  },
  {
   "cell_type": "code",
   "execution_count": 25,
   "id": "013d3030",
   "metadata": {
    "execution": {
     "iopub.execute_input": "2022-09-10T11:16:09.509781Z",
     "iopub.status.busy": "2022-09-10T11:16:09.508337Z",
     "iopub.status.idle": "2022-09-10T11:16:09.514242Z",
     "shell.execute_reply": "2022-09-10T11:16:09.511002Z",
     "shell.execute_reply.started": "2022-09-10T10:44:25.116106Z"
    },
    "papermill": {
     "duration": 0.881501,
     "end_time": "2022-09-10T11:16:09.514455",
     "exception": false,
     "start_time": "2022-09-10T11:16:08.632954",
     "status": "completed"
    },
    "tags": []
   },
   "outputs": [
    {
     "data": {
      "text/plain": [
       "array([0])"
      ]
     },
     "execution_count": 25,
     "metadata": {},
     "output_type": "execute_result"
    }
   ],
   "source": [
    "result"
   ]
  },
  {
   "cell_type": "code",
   "execution_count": null,
   "id": "40eed611",
   "metadata": {
    "papermill": {
     "duration": 0.86296,
     "end_time": "2022-09-10T11:16:11.454744",
     "exception": false,
     "start_time": "2022-09-10T11:16:10.591784",
     "status": "completed"
    },
    "tags": []
   },
   "outputs": [],
   "source": []
  }
 ],
 "metadata": {
  "kernelspec": {
   "display_name": "Python 3 (ipykernel)",
   "language": "python",
   "name": "python3"
  },
  "language_info": {
   "codemirror_mode": {
    "name": "ipython",
    "version": 3
   },
   "file_extension": ".py",
   "mimetype": "text/x-python",
   "name": "python",
   "nbconvert_exporter": "python",
   "pygments_lexer": "ipython3",
   "version": "3.7.13"
  },
  "papermill": {
   "default_parameters": {},
   "duration": 1820.710384,
   "end_time": "2022-09-10T11:16:16.312477",
   "environment_variables": {},
   "exception": null,
   "input_path": "__notebook__.ipynb",
   "output_path": "__notebook__.ipynb",
   "parameters": {},
   "start_time": "2022-09-10T10:45:55.602093",
   "version": "2.3.3"
  }
 },
 "nbformat": 4,
 "nbformat_minor": 5
}
